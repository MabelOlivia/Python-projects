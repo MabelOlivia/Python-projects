{
 "cells": [
  {
   "cell_type": "markdown",
   "metadata": {},
   "source": [
    "<img src= \"https://miro.medium.com/max/3200/1*9v51-jsfHtk6fgAIYLoiHQ.jpeg\" style=\"width:400px;height:80px;\">\n",
    " <font color='red'> "
   ]
  },
  {
   "cell_type": "markdown",
   "metadata": {},
   "source": [
    "# <font color='red'>Pandas Tutorial On Stock Price Analysis</font>\n",
    "\n",
    "This tutorial will cover how to retrieve stock price from yahoo finance using pandas data reader. The analysis of stock is done by plotting its high, low, close,volume values in table and a chart. Charts are of two types:\n",
    "    1. Line Chart\n",
    "    2. Bar Chart\n",
    "    \n",
    "    If you don't know what stock is watch this video to gain fundamenals of stocks and investing"
   ]
  },
  {
   "cell_type": "markdown",
   "metadata": {},
   "source": [
    "This project was made by [A very special lady](https://twitter.com/KaraniMabel)"
   ]
  },
  {
   "cell_type": "code",
   "execution_count": 56,
   "metadata": {
    "scrolled": false
   },
   "outputs": [
    {
     "data": {
      "text/html": [
       "<iframe width=\"560\" height=\"315\" src=\"https://www.youtube.com/embed/XRO6lEu9-5w\" frameborder=\"0\" allow=\"accelerometer; autoplay; clipboard-write; encrypted-media; gyroscope; picture-in-picture\" allowfullscreen></iframe>\n"
      ],
      "text/plain": [
       "<IPython.core.display.HTML object>"
      ]
     },
     "metadata": {},
     "output_type": "display_data"
    }
   ],
   "source": [
    "%%HTML\n",
    "<iframe width=\"560\" height=\"315\" src=\"https://www.youtube.com/embed/XRO6lEu9-5w\" frameborder=\"0\" allow=\"accelerometer; autoplay; clipboard-write; encrypted-media; gyroscope; picture-in-picture\" allowfullscreen></iframe>"
   ]
  },
  {
   "cell_type": "code",
   "execution_count": 35,
   "metadata": {},
   "outputs": [
    {
     "data": {
      "text/html": [
       "<div>\n",
       "<style scoped>\n",
       "    .dataframe tbody tr th:only-of-type {\n",
       "        vertical-align: middle;\n",
       "    }\n",
       "\n",
       "    .dataframe tbody tr th {\n",
       "        vertical-align: top;\n",
       "    }\n",
       "\n",
       "    .dataframe thead th {\n",
       "        text-align: right;\n",
       "    }\n",
       "</style>\n",
       "<table border=\"1\" class=\"dataframe\">\n",
       "  <thead>\n",
       "    <tr style=\"text-align: right;\">\n",
       "      <th></th>\n",
       "      <th>High</th>\n",
       "      <th>Low</th>\n",
       "      <th>Open</th>\n",
       "      <th>Close</th>\n",
       "      <th>Volume</th>\n",
       "      <th>Adj Close</th>\n",
       "    </tr>\n",
       "    <tr>\n",
       "      <th>Date</th>\n",
       "      <th></th>\n",
       "      <th></th>\n",
       "      <th></th>\n",
       "      <th></th>\n",
       "      <th></th>\n",
       "      <th></th>\n",
       "    </tr>\n",
       "  </thead>\n",
       "  <tbody>\n",
       "    <tr>\n",
       "      <th>2014-11-11</th>\n",
       "      <td>112.760002</td>\n",
       "      <td>110.870003</td>\n",
       "      <td>111.080002</td>\n",
       "      <td>112.040001</td>\n",
       "      <td>8603200</td>\n",
       "      <td>112.040001</td>\n",
       "    </tr>\n",
       "    <tr>\n",
       "      <th>2014-11-12</th>\n",
       "      <td>112.169998</td>\n",
       "      <td>111.230003</td>\n",
       "      <td>112.050003</td>\n",
       "      <td>111.500000</td>\n",
       "      <td>5133300</td>\n",
       "      <td>111.500000</td>\n",
       "    </tr>\n",
       "    <tr>\n",
       "      <th>2014-11-13</th>\n",
       "      <td>112.260002</td>\n",
       "      <td>111.220001</td>\n",
       "      <td>111.889999</td>\n",
       "      <td>111.669998</td>\n",
       "      <td>4874600</td>\n",
       "      <td>111.669998</td>\n",
       "    </tr>\n",
       "    <tr>\n",
       "      <th>2014-11-14</th>\n",
       "      <td>114.720001</td>\n",
       "      <td>110.650002</td>\n",
       "      <td>110.760002</td>\n",
       "      <td>114.470001</td>\n",
       "      <td>14173600</td>\n",
       "      <td>114.470001</td>\n",
       "    </tr>\n",
       "    <tr>\n",
       "      <th>2014-11-17</th>\n",
       "      <td>114.269997</td>\n",
       "      <td>113.559998</td>\n",
       "      <td>113.970001</td>\n",
       "      <td>114.050003</td>\n",
       "      <td>5441000</td>\n",
       "      <td>114.050003</td>\n",
       "    </tr>\n",
       "  </tbody>\n",
       "</table>\n",
       "</div>"
      ],
      "text/plain": [
       "                  High         Low        Open       Close    Volume  \\\n",
       "Date                                                                   \n",
       "2014-11-11  112.760002  110.870003  111.080002  112.040001   8603200   \n",
       "2014-11-12  112.169998  111.230003  112.050003  111.500000   5133300   \n",
       "2014-11-13  112.260002  111.220001  111.889999  111.669998   4874600   \n",
       "2014-11-14  114.720001  110.650002  110.760002  114.470001  14173600   \n",
       "2014-11-17  114.269997  113.559998  113.970001  114.050003   5441000   \n",
       "\n",
       "             Adj Close  \n",
       "Date                    \n",
       "2014-11-11  112.040001  \n",
       "2014-11-12  111.500000  \n",
       "2014-11-13  111.669998  \n",
       "2014-11-14  114.470001  \n",
       "2014-11-17  114.050003  "
      ]
     },
     "execution_count": 35,
     "metadata": {},
     "output_type": "execute_result"
    }
   ],
   "source": [
    "from pandas_datareader import data\n",
    "import datetime as dt\n",
    "df = data.DataReader('GLD','yahoo',dt.datetime(2014,11,11),dt.datetime(2016,11,11))\n",
    "df.head()"
   ]
  },
  {
   "cell_type": "code",
   "execution_count": 38,
   "metadata": {},
   "outputs": [
    {
     "data": {
      "text/plain": [
       "<matplotlib.axes._subplots.AxesSubplot at 0x2847df35670>"
      ]
     },
     "execution_count": 38,
     "metadata": {},
     "output_type": "execute_result"
    },
    {
     "data": {
      "image/png": "[encoded data removed]",
      "text/plain": [
       "<Figure size 432x288 with 1 Axes>"
      ]
     },
     "metadata": {
      "needs_background": "light"
     },
     "output_type": "display_data"
    }
   ],
   "source": [
    "%matplotlib inline \n",
    "df.plot(y='Close', color = \"Green\")"
   ]
  },
  {
   "cell_type": "code",
   "execution_count": 55,
   "metadata": {},
   "outputs": [
    {
     "data": {
      "text/plain": [
       "<matplotlib.axes._subplots.AxesSubplot at 0x2847db26640>"
      ]
     },
     "execution_count": 55,
     "metadata": {},
     "output_type": "execute_result"
    },
    {
     "data": {
      "image/png": "[encoded data removed]",
      "text/plain": [
       "<Figure size 432x288 with 1 Axes>"
      ]
     },
     "metadata": {
      "needs_background": "light"
     },
     "output_type": "display_data"
    }
   ],
   "source": [
    "df.plot.bar(y=\"Volume\")"
   ]
  }
 ],
 "metadata": {
  "kernelspec": {
   "display_name": "Python 3",
   "language": "python",
   "name": "python3"
  },
  "language_info": {
   "codemirror_mode": {
    "name": "ipython",
    "version": 3
   },
   "file_extension": ".py",
   "mimetype": "text/x-python",
   "name": "python",
   "nbconvert_exporter": "python",
   "pygments_lexer": "ipython3",
   "version": "3.8.3"
  }
 },
 "nbformat": 4,
 "nbformat_minor": 4
}
